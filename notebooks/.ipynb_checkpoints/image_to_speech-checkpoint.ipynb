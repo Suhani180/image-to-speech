{
 "cells": [
  {
   "cell_type": "code",
   "execution_count": null,
   "id": "6420c99c-fd58-42f2-8922-8025178ebd41",
   "metadata": {},
   "outputs": [],
   "source": [
    "!pip install transformers gtts pillow matplotlib"
   ]
  },
  {
   "cell_type": "code",
   "execution_count": null,
   "id": "c5461744-347b-4559-bf64-c87d863e5c5d",
   "metadata": {},
   "outputs": [],
   "source": [
    "import os\n",
    "import requests"
   ]
  },
  {
   "cell_type": "code",
   "execution_count": null,
   "id": "c9889d81-eabb-4066-878e-40906784aed3",
   "metadata": {},
   "outputs": [],
   "source": [
    "from PIL import Image\n",
    "import matplotlib.pyplot as plt\n",
    "from transformers import BlipProcessor, BlipForConditionalGeneration\n",
    "from gtts import gTTS\n",
    "from IPython.display import Audio"
   ]
  },
  {
   "cell_type": "code",
   "execution_count": null,
   "id": "ce8635cd-fb0c-4d3d-a197-6e957ff9b9ee",
   "metadata": {},
   "outputs": [],
   "source": [
    "image_path = \"path/to/your/image.jpg\""
   ]
  },
  {
   "cell_type": "code",
   "execution_count": null,
   "id": "64ae5554-872b-44c3-8b46-874fb435d258",
   "metadata": {},
   "outputs": [],
   "source": [
    "processor = BlipProcessor.from_pretrained(\"Salesforce/blip-image-captioning-base\")\n",
    "model = BlipForConditionalGeneration.from_pretrained(\"Salesforce/blip-image-captioning-base\")\n"
   ]
  },
  {
   "cell_type": "code",
   "execution_count": null,
   "id": "5c9c640b-dcf2-49fd-a71f-4e223a3c9f55",
   "metadata": {},
   "outputs": [],
   "source": [
    "def generate_caption(image_path):\n",
    "    image = Image.open(image_path).convert(\"RGB\")\n",
    "    \n",
    "    # Preprocess the image and generate caption\n",
    "    inputs = processor(images=image, return_tensors=\"pt\")\n",
    "    out = model.generate(**inputs)\n",
    "    caption = processor.decode(out[0], skip_special_tokens=True)\n",
    "    \n",
    "    return caption\n",
    "\n",
    "# Generate caption for the image\n",
    "caption = generate_caption(image_path)\n",
    "print(f\"Generated Caption: {caption}\")"
   ]
  },
  {
   "cell_type": "code",
   "execution_count": null,
   "id": "428d1593-88f5-4812-9fbf-5cfccb044caa",
   "metadata": {},
   "outputs": [],
   "source": [
    "img = Image.open(image_path)\n",
    "plt.imshow(img)\n",
    "plt.axis('off')  # No axis\n",
    "plt.show()"
   ]
  },
  {
   "cell_type": "code",
   "execution_count": null,
   "id": "35beb6f3-4112-45d8-9535-5560c3423e74",
   "metadata": {},
   "outputs": [],
   "source": [
    "def text_to_speech(caption):\n",
    "    tts = gTTS(text=caption, lang='en')\n",
    "    tts.save(\"caption.mp3\")\n",
    "    \n",
    "    # Play the generated audio in the notebook\n",
    "    return Audio(\"caption.mp3\", autoplay=True)\n",
    "\n",
    "# Generate and play speech\n",
    "audio = text_to_speech(caption)\n",
    "audio"
   ]
  },
  {
   "cell_type": "code",
   "execution_count": null,
   "id": "a47020c3-8fc9-489d-b208-c1f0e37a5eac",
   "metadata": {},
   "outputs": [],
   "source": []
  }
 ],
 "metadata": {
  "kernelspec": {
   "display_name": "Python 3 (ipykernel)",
   "language": "python",
   "name": "python3"
  },
  "language_info": {
   "codemirror_mode": {
    "name": "ipython",
    "version": 3
   },
   "file_extension": ".py",
   "mimetype": "text/x-python",
   "name": "python",
   "nbconvert_exporter": "python",
   "pygments_lexer": "ipython3",
   "version": "3.13.0"
  }
 },
 "nbformat": 4,
 "nbformat_minor": 5
}
